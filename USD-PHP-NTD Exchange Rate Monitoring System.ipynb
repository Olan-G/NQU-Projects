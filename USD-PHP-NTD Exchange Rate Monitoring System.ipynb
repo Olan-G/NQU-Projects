{
 "cells":[
  {
   "cell_type":"code",
   "source":[
    "%%html\n",
    "\n",
    "<h1> <center> USD - NTD - PHP <\/center><\/h1>\n",
    "<h1> <center> Exchange Rate Monitoring System <\/center><\/h1>\n",
    "<p> <center> John Olan S. Gomez <\/center> <\/p>\n",
    "<p> <center> 111118013 <\/center> <\/p>\n",
    "<p> <center> Modern Programming Language <\/center><\/p> "
   ],
   "execution_count":18,
   "outputs":[
    {
     "data":{
      "text\/html":[
       "\n",
       "<h1> <center> USD - NTD - PHP <\/center><\/h1>\n",
       "<h1> <center> Exchange Rate Monitoring System <\/center><\/h1>\n",
       "<p> <center> John Olan S. Gomez <\/center> <\/p>\n",
       "<p> <center> 111118013 <\/center> <\/p>\n",
       "<p> <center> Modern Programming Language <\/center><\/p> \n"
      ]
     },
     "metadata":{
      
     },
     "output_type":"display_data"
    }
   ],
   "metadata":{
    "datalore":{
     "node_id":"LC2WogmBhv0n2MleLwzpQg",
     "type":"CODE",
     "hide_input_from_viewers":true,
     "hide_output_from_viewers":true
    }
   }
  },
  {
   "cell_type":"code",
   "source":[
    "#add necessary libraries\n",
    "import requests as req\n",
    "from bs4 import BeautifulSoup as bs\n",
    "from IPython.core.display import display, HTML\n",
    "\n",
    "#urls to get the data\n",
    "UStoNTNow= \"https:\/\/www.exchangerates.org.uk\/Dollars-to-Taiwan-Dollar-currency-conversion-page.html\"\n",
    "UStoPHNow= \"https:\/\/www.exchangerates.org.uk\/Dollars-to-Philippine-Pesos-currency-conversion-page.html\"\n",
    "NTtoPHNow= \"https:\/\/www.exchangerates.org.uk\/Taiwan-Dollar-to-Philippine-Pesos-currency-conversion-page.html\"\n",
    "\n",
    "#make an http request\n",
    "UNreq= req.get(UStoNTNow)\n",
    "PHreq= req.get(UStoPHNow)\n",
    "NPreq= req.get(NTtoPHNow)\n",
    "\n",
    "#parse the website using Beautiful Soup\n",
    "UNsp= bs(UNreq.text, 'lxml')\n",
    "PHsp= bs(PHreq.text, 'lxml')\n",
    "NPsp= bs(NPreq.text, 'lxml')\n",
    "\n",
    "#find the div with the exchange rate value\n",
    "UNdiv= UNsp.find_all('div', class_='p_conv30')\n",
    "PHdiv= PHsp.find_all('div', class_='p_conv30')\n",
    "NPdiv= NPsp.find_all('div', class_='p_conv30')\n",
    "\n",
    "#find the data\n",
    "UNdata= UNdiv[1].text\n",
    "PHdata= PHdiv[1].text\n",
    "NPdata= NPdiv[1].text\n",
    "\n",
    "#extract only the exchange value\n",
    "UNdata= UNdata.split(\"= \",1)[1]\n",
    "PHdata= PHdata.split(\"= \",1)[1]\n",
    "NPdata= NPdata.split(\"= \",1)[1]\n",
    "\n",
    "#print the data\n",
    "UNdata = \"1 USD = \"+ str(UNdata.replace('TWD','NTD'))\n",
    "PHdata = \"1 USD = \"+ str(PHdata)\n",
    "NPdata = \"1 NTD = \"+ str(NPdata)\n",
    "\n",
    "display(HTML(f\"<center><h1>Current Exchange Rates<\/h1><\/center>\"))\n",
    "display(HTML(f\"<center><h2>{UNdata}<\/h2><\/center>\"))\n",
    "display(HTML(f\"<center><h2>{PHdata}<\/h2><\/center>\"))\n",
    "display(HTML(f\"<center><h2>{NPdata}<\/h2><\/center>\"))\n",
    "\n",
    "\n"
   ],
   "execution_count":4,
   "outputs":[
    {
     "data":{
      "text\/html":[
       "<center><h1>Current Exchange Rates<\/h1><\/center>"
      ]
     },
     "metadata":{
      
     },
     "output_type":"display_data"
    },
    {
     "data":{
      "text\/html":[
       "<center><h2>1 USD = 30.6387 NTD\n",
       "<\/h2><\/center>"
      ]
     },
     "metadata":{
      
     },
     "output_type":"display_data"
    },
    {
     "data":{
      "text\/html":[
       "<center><h2>1 USD = 56.333 PHP\n",
       "<\/h2><\/center>"
      ]
     },
     "metadata":{
      
     },
     "output_type":"display_data"
    },
    {
     "data":{
      "text\/html":[
       "<center><h2>1 NTD = 1.8386 PHP\n",
       "<\/h2><\/center>"
      ]
     },
     "metadata":{
      
     },
     "output_type":"display_data"
    }
   ],
   "metadata":{
    "datalore":{
     "node_id":"g1j3z9afBOVdsZImAWFlZ4",
     "type":"CODE",
     "hide_input_from_viewers":true,
     "hide_output_from_viewers":true
    }
   }
  },
  {
   "cell_type":"code",
   "source":[
    "\n",
    "import sqlite3 as sql\n",
    "import requests as req\n",
    "from bs4 import BeautifulSoup as bs\n",
    "import matplotlib.pyplot as plt\n",
    "import numpy as np\n",
    "from IPython.core.display import display, HTML\n",
    "\n",
    "#create database\n",
    "conn= sql.connect('forex.db')\n",
    "print(\"Connected to database successfully\")\n",
    "\n",
    "#create cursor\n",
    "c= conn.cursor()\n",
    "sumVal = 0\n",
    "\n",
    "dates= []\n",
    "histDataUsdNtd= []\n",
    "\n",
    "def insertData(year, month, data, custom):\n",
    "    with conn:  #commit the query\n",
    "        c.execute(\"INSERT INTO ntd_data VALUES (:year, :month, :ex_rate, :custom_date)\",\n",
    "                {'year':year, 'month':month, 'ex_rate':data, 'custom_date':custom})\n",
    "\n",
    "def getData():\n",
    "    c.execute(\"SELECT ex_rate FROM ntd_data\")\n",
    "    return c.fetchall()\n",
    "\n",
    "def getDate():\n",
    "    c.execute(\"SELECT custom_date FROM ntd_data\")\n",
    "    return c.fetchall()\n",
    "\n",
    "def removeAllData():\n",
    "    with conn:\n",
    "        c.execute(\"DELETE from ntd_data\")\n",
    "\n",
    "try: \n",
    "    # create table\n",
    "    c.execute(\"\"\"\n",
    "                CREATE TABLE ntd_data(\n",
    "                year integer,\n",
    "                month integer,\n",
    "                ex_rate real,\n",
    "                custom_date text\n",
    "                )\n",
    "                \"\"\")\n",
    "\n",
    "    for i in range(2011, 2023):\n",
    "        for j in range(1, 13):\n",
    "\n",
    "            if j <10:\n",
    "                histDataReq= req.get(\"https:\/\/rate.bot.com.tw\/cr\/\"+str(i)+\"-0\"+str(j))\n",
    "                histDatasp= bs(histDataReq.text, 'lxml')\n",
    "                histTable= histDatasp.find('table', class_=\"table table-striped table-bordered table-condensed table-hover biaxial-table\")\n",
    "                histData= histTable.find_all('td', class_=\"text-right cols2td\")\n",
    "                data= histData[0].text\n",
    "                data = float(data)\n",
    "                #insert data to database\n",
    "                insertData(i, j, data, str(i)+'-'+str(j))\n",
    "                sumVal+=float(data)\n",
    "\n",
    "            else:\n",
    "                histDataReq= req.get(\"https:\/\/rate.bot.com.tw\/cr\/\"+str(i)+\"-\"+str(j))\n",
    "                histDatasp= bs(histDataReq.text, 'lxml')\n",
    "                histTable= histDatasp.find('table', class_=\"table table-striped table-bordered table-condensed table-hover biaxial-table\")\n",
    "                histData= histTable.find_all('td', class_=\"text-right cols2td\")\n",
    "                data = histData[0].text\n",
    "                data = float(data)\n",
    "                #insert data to database\n",
    "                insertData(i, j, data, str(i)+'-'+str(j))\n",
    "                sumVal+=float(data)\n",
    "\n",
    "    for i in range(0, len(getData())):\n",
    "        f= getData()[i]\n",
    "        histDataUsdNtd.append(f[0])\n",
    "\n",
    "    for i in range(0, len(getDate())):\n",
    "        f= getDate()[i]\n",
    "        dates.append(f[0])\n",
    "\n",
    "except:\n",
    "    for i in range(0, len(getData())):\n",
    "        f= getData()[i]\n",
    "        histDataUsdNtd.append(f[0])\n",
    "\n",
    "    for i in range(0, len(getDate())):\n",
    "        f= getDate()[i]\n",
    "        dates.append(f[0])\n",
    "    \n",
    "    for i in histDataUsdNtd:\n",
    "        sumVal+=i\n",
    "\n",
    "finally:\n",
    "    #plot the data\n",
    "    # Specify the width and height of a figure in unit inches\n",
    "    fig = plt.figure(figsize=(10,5))\n",
    "    # Rotate the date ticks on the x-axis by degrees\n",
    "    plt.xticks(rotation=90)\n",
    "\n",
    "    #limit the x and y values in the graph\n",
    "    plt.xticks(np.arange(0, len(dates), 12))\n",
    "\n",
    "    # Set title on the axis\n",
    "    plt.xlabel('Year', fontsize=18, ).set_color('black')\n",
    "    plt.ylabel('NTD', fontsize=18).set_color('black')\n",
    "    plt.tick_params(axis='both', color='black')\n",
    "\n",
    "    # Plot the data\n",
    "    plt.plot(dates,histDataUsdNtd)\n",
    "\n",
    "    plt.title(\"USD-NTD Forex Trend\", color='black', fontsize=20)\n",
    "\n",
    "    plt.show()\n",
    "\n",
    "    average = sumVal\/len(histDataUsdNtd)\n",
    "    maxVal= max(histDataUsdNtd)\n",
    "    minVal= min(histDataUsdNtd)\n",
    "\n",
    "    #find out the date of the max and min value\n",
    "    dateMax= histDataUsdNtd.index(maxVal)\n",
    "    dateMax= dates[dateMax]\n",
    "    dateMin= histDataUsdNtd.index(minVal)\n",
    "    dateMin= dates[dateMin]\n",
    "\n",
    "    display(HTML(f\"<center><h1>Average<\/h1><\/center>\"))\n",
    "    display(HTML(f\"<center><h2>{str('%.4f' % average) + ' NTD'}<\/h2><\/center>\"))\n",
    "    display(HTML(f\"<center><h1>Highest Exchange Rate<\/h1><\/center>\"))\n",
    "    display(HTML(f\"<center><h2>{str(dateMax)}<\/h2><\/center>\"))\n",
    "    display(HTML(f\"<center><h2>{str(maxVal) + ' NTD'}<\/h2><\/center>\"))\n",
    "    display(HTML(f\"<center><h1>Lowest Exchange Rate<\/h1><\/center>\"))\n",
    "    display(HTML(f\"<center><h2>{str(dateMin)}<\/h2><\/center>\"))\n",
    "    display(HTML(f\"<center><h2>{str (minVal) + ' NTD'}<\/h2><\/center>\"))\n",
    "\n",
    "\n",
    "    conn.close()"
   ],
   "execution_count":3,
   "outputs":[
    {
     "name":"stdout",
     "text":[
      "Connected to database successfully\n"
     ],
     "output_type":"stream"
    }
   ],
   "metadata":{
    "datalore":{
     "node_id":"wupSxivwS7VrTpqJmHWbub",
     "type":"CODE",
     "hide_input_from_viewers":true,
     "hide_output_from_viewers":true
    }
   }
  },
  {
   "cell_type":"code",
   "source":[
    "#get philippines - usd historical data\n",
    "import sqlite3 as sql\n",
    "import requests as req\n",
    "from bs4 import BeautifulSoup as bs\n",
    "import matplotlib.pyplot as plt\n",
    "import numpy as np\n",
    "from IPython.core.display import display, HTML\n",
    "\n",
    "#create database\n",
    "conn= sql.connect('forex.db')\n",
    "print(\"Connected to database successfully\")\n",
    "\n",
    "#create cursor\n",
    "c= conn.cursor()\n",
    "\n",
    "sumVal = 0\n",
    "dates= []\n",
    "histDataUsdPhp= []\n",
    "\n",
    "def insertData(year, month, data, custom):\n",
    "    with conn:  #commit the query\n",
    "        c.execute(\"INSERT INTO php_data VALUES (:year, :month, :ex_rate, :custom_date)\",\n",
    "                {'year':year, 'month':month, 'ex_rate':data, 'custom_date':custom})\n",
    "\n",
    "def getData():\n",
    "    c.execute(\"SELECT ex_rate FROM php_data\")\n",
    "    return c.fetchall()\n",
    "\n",
    "def getDate():\n",
    "    c.execute(\"SELECT custom_date FROM php_data\")\n",
    "    return c.fetchall()\n",
    "\n",
    "def removeAllData():\n",
    "    with conn:\n",
    "        c.execute(\"DELETE from php_data\")\n",
    "\n",
    "try:\n",
    "    # create table\n",
    "    c.execute(\"\"\"\n",
    "                CREATE TABLE php_data(\n",
    "                year integer,\n",
    "                month integer,\n",
    "                ex_rate real,\n",
    "                custom_date text\n",
    "                )\n",
    "                \"\"\")\n",
    "\n",
    "    for i in range(2011, 2023):\n",
    "        for j in range(1, 13):\n",
    "\n",
    "            if i==2022 and j==11:\n",
    "                break\n",
    "            \n",
    "            else:\n",
    "                histDataReq= req.get(\"https:\/\/www.currency-converter.org.uk\/currency-rates\/historical\/rate\/USD-PHP-\"+\"01_\"+str(j)+\"_\"+str(i)+\".html?KeepThis=true&TB_iframe=true&height=500&width=500\")\n",
    "                histDatasp= bs(histDataReq.text, 'lxml')\n",
    "                histTable= histDatasp.find('table')\n",
    "                histData= histTable.find_all('td')\n",
    "                data= str(histData[5].text)\n",
    "                data = data.replace('PHP', '')\n",
    "                data = float(data)\n",
    "\n",
    "                insertData(i, j, data, str(i)+'-'+str(j))\n",
    "\n",
    "                histDataUsdPhp.append(data)\n",
    "                dates.append(str(i)+'-'+str(j))\n",
    "                sumVal+=float(data)\n",
    "\n",
    "except:\n",
    "\n",
    "    for i in range(0, len(getData())):\n",
    "        f= getData()[i]\n",
    "        histDataUsdPhp.append(f[0])\n",
    "\n",
    "    for i in range(0, len(getDate())):\n",
    "        f= getDate()[i]\n",
    "        dates.append(f[0])\n",
    "\n",
    "    for i in histDataUsdPhp:\n",
    "        sumVal+=i\n",
    "\n",
    "finally:\n",
    "    #plot the data\n",
    "\n",
    "    # Specify the width and height of a figure in unit inches\n",
    "    fig = plt.figure(figsize=(10,5))\n",
    "    # Rotate the date ticks on the x-axis by degrees\n",
    "    plt.xticks(rotation=90)\n",
    "    # plt.yticks(rotation=180)\n",
    "\n",
    "    plt.xticks(np.arange(0, len(dates), 12))\n",
    "    # plt.yticks(np.arange(0, len(histDataUsdPhp), 20))\n",
    "\n",
    "    # Set title on the axis\n",
    "    plt.xlabel('Year', fontsize=18, ).set_color('black')\n",
    "    plt.ylabel('PHP', fontsize=18).set_color('black')\n",
    "    plt.tick_params(axis='both', color='black')\n",
    "    # Plot the data\n",
    "    plt.plot(dates,histDataUsdPhp)\n",
    "\n",
    "    plt.title(\"USD-PHP Forex Trend\", color='black', fontsize=25)\n",
    "\n",
    "    plt.show()\n",
    "\n",
    "    average = sumVal\/len(histDataUsdPhp)\n",
    "    maxVal= max(histDataUsdPhp)\n",
    "    minVal= min(histDataUsdPhp)\n",
    "\n",
    "    #find out the date of the max and min value\n",
    "    dateMax= histDataUsdPhp.index(maxVal)\n",
    "    dateMax= dates[dateMax]\n",
    "    dateMin= histDataUsdPhp.index(minVal)\n",
    "    dateMin= dates[dateMin]\n",
    "\n",
    "    display(HTML(f\"<center><h1>Average<\/h1><\/center>\"))\n",
    "    display(HTML(f\"<center><h2>{str('%.4f' % average) + ' PHP'}<\/h2><\/center>\"))\n",
    "    display(HTML(f\"<center><h1>Highest Exchange Rate<\/h1><\/center>\"))\n",
    "    display(HTML(f\"<center><h2>{str(dateMax)}<\/h2><\/center>\"))\n",
    "    display(HTML(f\"<center><h2>{str(maxVal) + ' PHP'}<\/h2><\/center>\"))\n",
    "    display(HTML(f\"<center><h1>Lowest Exchange Rate<\/h1><\/center>\"))\n",
    "    display(HTML(f\"<center><h2>{str(dateMin)}<\/h2><\/center>\"))\n",
    "    display(HTML(f\"<center><h2>{str (minVal) + ' PHP'}<\/h2><\/center>\"))\n",
    "\n",
    "    conn.close()"
   ],
   "execution_count":26,
   "outputs":[
    {
     "name":"stdout",
     "text":[
      "Connected to database successfully\n"
     ],
     "output_type":"stream"
    },
    {
     "data":{
      "image\/png":"[encoded data removed]"
     },
     "metadata":{
      "image\/png":{
       
      }
     },
     "output_type":"display_data"
    },
    {
     "data":{
      "text\/html":[
       "<center><h1>Average<\/h1><\/center>"
      ]
     },
     "metadata":{
      
     },
     "output_type":"display_data"
    },
    {
     "data":{
      "text\/html":[
       "<center><h2>47.6029 PHP<\/h2><\/center>"
      ]
     },
     "metadata":{
      
     },
     "output_type":"display_data"
    },
    {
     "data":{
      "text\/html":[
       "<center><h1>Highest Exchange Rate<\/h1><\/center>"
      ]
     },
     "metadata":{
      
     },
     "output_type":"display_data"
    },
    {
     "data":{
      "text\/html":[
       "<center><h2>2022-10<\/h2><\/center>"
      ]
     },
     "metadata":{
      
     },
     "output_type":"display_data"
    },
    {
     "data":{
      "text\/html":[
       "<center><h2>58.8015 PHP<\/h2><\/center>"
      ]
     },
     "metadata":{
      
     },
     "output_type":"display_data"
    },
    {
     "data":{
      "text\/html":[
       "<center><h1>Lowest Exchange Rate<\/h1><\/center>"
      ]
     },
     "metadata":{
      
     },
     "output_type":"display_data"
    },
    {
     "data":{
      "text\/html":[
       "<center><h2>2013-3<\/h2><\/center>"
      ]
     },
     "metadata":{
      
     },
     "output_type":"display_data"
    },
    {
     "data":{
      "text\/html":[
       "<center><h2>40.6802 PHP<\/h2><\/center>"
      ]
     },
     "metadata":{
      
     },
     "output_type":"display_data"
    }
   ],
   "metadata":{
    "datalore":{
     "node_id":"6EfAyl4qAQfzDlLnnQOoeD",
     "type":"CODE",
     "hide_input_from_viewers":true,
     "hide_output_from_viewers":true
    }
   }
  }
 ],
 "metadata":{
  "kernelspec":{
   "display_name":"Python",
   "language":"python",
   "name":"python"
  },
  "datalore":{
   "computation_mode":"JUPYTER",
   "package_manager":"pip",
   "base_environment":"default",
   "packages":[
    
   ],
   "report_row_ids":[
    
   ],
   "version":3
  }
 },
 "nbformat":4,
 "nbformat_minor":4
}